{
 "cells": [
  {
   "cell_type": "code",
   "execution_count": 8,
   "id": "initial_id",
   "metadata": {
    "collapsed": true,
    "ExecuteTime": {
     "end_time": "2023-08-16T18:47:27.420029Z",
     "start_time": "2023-08-16T18:47:27.342602Z"
    }
   },
   "outputs": [],
   "source": [
    "import pandas as pd\n",
    "import json\n",
    "from pathlib import Path\n",
    "from land_grab.db import GristDbField\n"
   ]
  },
  {
   "cell_type": "code",
   "execution_count": 2,
   "outputs": [],
   "source": [
    "a_json_path = Path('/Users/marcellebonterre/Downloads/regrid/az_apache.json')\n",
    "a_state_csv = Path('/Users/marcellebonterre/Downloads/regrid/University_of_Arizona.csv')"
   ],
   "metadata": {
    "collapsed": false,
    "ExecuteTime": {
     "end_time": "2023-08-16T17:03:41.056675Z",
     "start_time": "2023-08-16T17:03:41.053677Z"
    }
   },
   "id": "5241887ada81eff5"
  },
  {
   "cell_type": "code",
   "execution_count": 3,
   "outputs": [],
   "source": [
    "\n",
    "a_json = json.load(a_json_path.open())\n",
    "a_state = pd.read_csv(a_state_csv, skiprows=3)"
   ],
   "metadata": {
    "collapsed": false,
    "ExecuteTime": {
     "end_time": "2023-08-16T17:03:43.806216Z",
     "start_time": "2023-08-16T17:03:41.057433Z"
    }
   },
   "id": "f1148d3a1446268f"
  },
  {
   "cell_type": "code",
   "execution_count": 4,
   "outputs": [],
   "source": [
    "parcelnumbs = [feat['properties']['parcelnumb'] for feat in a_json['features']]"
   ],
   "metadata": {
    "collapsed": false,
    "ExecuteTime": {
     "end_time": "2023-08-16T17:03:43.832664Z",
     "start_time": "2023-08-16T17:03:43.830654Z"
    }
   },
   "id": "1f066170dc97df21"
  },
  {
   "cell_type": "code",
   "execution_count": 5,
   "outputs": [],
   "source": [
    "state_p_nums = a_state['Parcel Number'].tolist()"
   ],
   "metadata": {
    "collapsed": false,
    "ExecuteTime": {
     "end_time": "2023-08-16T17:03:43.837864Z",
     "start_time": "2023-08-16T17:03:43.836073Z"
    }
   },
   "id": "5e05578a58ab9cb0"
  },
  {
   "cell_type": "code",
   "execution_count": 7,
   "outputs": [],
   "source": [
    "match_rows = [state_p_nums.index(p) for p in parcelnumbs if p in state_p_nums]\n",
    "match_idxs = [i for i, p in enumerate(parcelnumbs) if p in state_p_nums]"
   ],
   "metadata": {
    "collapsed": false,
    "ExecuteTime": {
     "end_time": "2023-08-16T18:47:18.669483Z",
     "start_time": "2023-08-16T18:47:17.522684Z"
    }
   },
   "id": "3fdc9fd6c4639338"
  },
  {
   "cell_type": "code",
   "execution_count": 9,
   "outputs": [],
   "source": [
    "fields = [GristDbField(name='geoid', constraints='varchar(200)'),\n",
    "          GristDbField(name='parcelnumb', constraints='varchar(200)'),\n",
    "          GristDbField(name='usecode', constraints='varchar(200)'),\n",
    "          GristDbField(name='usedesc', constraints='varchar(200)'),\n",
    "          GristDbField(name='zoning', constraints='varchar(200)'),\n",
    "          GristDbField(name='zoning_description', constraints='varchar(200)'),\n",
    "          GristDbField(name='struct', constraints='bool'),\n",
    "          GristDbField(name='multistruct', constraints='bool'),\n",
    "          GristDbField(name='structno', constraints='integer'),\n",
    "          GristDbField(name='yearbuilt', constraints='integer'),\n",
    "          GristDbField(name='structstyle', constraints='varchar(200)'),\n",
    "          GristDbField(name='parvaltype', constraints='varchar(200)'),\n",
    "          GristDbField(name='improvval', constraints='double'),\n",
    "          GristDbField(name='landval', constraints='double'),\n",
    "          GristDbField(name='parval', constraints='double'),\n",
    "          GristDbField(name='agval', constraints='double'),\n",
    "          GristDbField(name='saleprice', constraints='double'),\n",
    "          GristDbField(name='saledate', constraints='date'),\n",
    "          GristDbField(name='taxamt', constraints='double'),\n",
    "          GristDbField(name='owntype', constraints='varchar(200)'),\n",
    "          GristDbField(name='owner', constraints='varchar(200)'),\n",
    "          GristDbField(name='ownfrst', constraints='varchar(200)'),\n",
    "          GristDbField(name='ownlast', constraints='varchar(200)'),\n",
    "          GristDbField(name='owner2', constraints='varchar(200)'),\n",
    "          GristDbField(name='owner3', constraints='varchar(200)'),\n",
    "          GristDbField(name='owner4', constraints='varchar(200)'),\n",
    "          GristDbField(name='subsurfown', constraints='varchar(200)'),\n",
    "          GristDbField(name='subowntype', constraints='varchar(200)'),\n",
    "          GristDbField(name='mailadd', constraints='varchar(200)'),\n",
    "          GristDbField(name='address_source', constraints='varchar(200)'),\n",
    "          GristDbField(name='legaldesc', constraints='varchar(200)'),\n",
    "          GristDbField(name='plat', constraints='varchar(200)'),\n",
    "          GristDbField(name='book', constraints='varchar(200)'),\n",
    "          GristDbField(name='page', constraints='varchar(200)'),\n",
    "          GristDbField(name='block', constraints='varchar(200)'),\n",
    "          GristDbField(name='lot', constraints='varchar(200)'),\n",
    "          GristDbField(name='neighborhood', constraints='varchar(200)'),\n",
    "          GristDbField(name='subdivision', constraints='varchar(200)'),\n",
    "          GristDbField(name='qoz', constraints='varchar(200)'),\n",
    "          GristDbField(name='census_block', constraints='varchar(200)'),\n",
    "          GristDbField(name='census_blockgroup', constraints='varchar(200)'),\n",
    "          GristDbField(name='census_tract', constraints='varchar(200)'),\n",
    "          GristDbField(name='sourceurl', constraints='varchar(200)'),\n",
    "          GristDbField(name='recrdareano', constraints='double'),\n",
    "          GristDbField(name='gisacre', constraints='double'),\n",
    "          GristDbField(name='ll_gisacre', constraints='double'),\n",
    "          GristDbField(name='sqft', constraints='double'),\n",
    "          GristDbField(name='ll_gissqft', constraints='double'),\n",
    "          GristDbField(name='reviseddate', constraints='date'),\n",
    "          GristDbField(name='ll_uuid', constraints='varchar(200)'),\n",
    "          GristDbField(name='padus_public_access', constraints='varchar(200)'),\n",
    "          GristDbField(name='lbcs_activity', constraints='integer'),\n",
    "          GristDbField(name='lbcs_activity_desc', constraints='varchar(200)'),\n",
    "          GristDbField(name='lbcs_function', constraints='integer'),\n",
    "          GristDbField(name='lbcs_function_desc', constraints='varchar(200)'),\n",
    "          GristDbField(name='lbcs_structure', constraints='integer'),\n",
    "          GristDbField(name='lbcs_structure_desc', constraints='varchar(200)'),\n",
    "          GristDbField(name='lbcs_site', constraints='integer'),\n",
    "          GristDbField(name='lbcs_site_desc', constraints='varchar(200)'),\n",
    "          GristDbField(name='lbcs_ownership', constraints='integer'),\n",
    "          GristDbField(name='lbcs_ownership_desc', constraints='varchar(200)'),\n",
    "          GristDbField(name='lat', constraints='varchar(200)'),\n",
    "          GristDbField(name='lon', constraints='varchar(200)'),\n",
    "          GristDbField(name='taxyear', constraints='varchar(200)'),\n",
    "          GristDbField(name='ll_address_count', constraints='integer'),\n",
    "          GristDbField(name='homestead_exemption', constraints='varchar(200)'),\n",
    "          GristDbField(name='alt_parcelnumb1', constraints='varchar(200)'),\n",
    "          GristDbField(name='alt_parcelnumb2', constraints='varchar(200)'),\n",
    "          GristDbField(name='alt_parcelnumb3', constraints='varchar(200)'),\n",
    "          GristDbField(name='parcelnumb_no_formatting', constraints='varchar(200)'),\n",
    "          GristDbField(name='plss_township', constraints='varchar(200)'),\n",
    "          GristDbField(name='plss_section', constraints='varchar(200)'),\n",
    "          GristDbField(name='plss_range', constraints='varchar(200)'),\n",
    "          GristDbField(name='geometry', constraints='geometry'),\n",
    "          GristDbField(name='geometryType', constraints='varchar(50)'),\n",
    "          GristDbField(name='isRegrid', constraints='bool')]"
   ],
   "metadata": {
    "collapsed": false,
    "ExecuteTime": {
     "end_time": "2023-08-16T18:47:34.188378Z",
     "start_time": "2023-08-16T18:47:34.163287Z"
    }
   },
   "id": "795ea5047942a00f"
  },
  {
   "cell_type": "code",
   "execution_count": 10,
   "outputs": [],
   "source": [
    "data_keys = set(a_json['features'][0]['properties'].keys())\n",
    "code_keys = set([f.name for f in fields])\n",
    "data_wo_code =  data_keys - code_keys\n",
    "coede_wo_data = code_keys - data_keys"
   ],
   "metadata": {
    "collapsed": false,
    "ExecuteTime": {
     "end_time": "2023-08-16T18:49:53.851433Z",
     "start_time": "2023-08-16T18:49:53.835272Z"
    }
   },
   "id": "c48b1ab799ecd6ae"
  },
  {
   "cell_type": "code",
   "execution_count": null,
   "outputs": [],
   "source": [],
   "metadata": {
    "collapsed": false
   },
   "id": "5319840364a7e2c5"
  }
 ],
 "metadata": {
  "kernelspec": {
   "display_name": "Python 3",
   "language": "python",
   "name": "python3"
  },
  "language_info": {
   "codemirror_mode": {
    "name": "ipython",
    "version": 2
   },
   "file_extension": ".py",
   "mimetype": "text/x-python",
   "name": "python",
   "nbconvert_exporter": "python",
   "pygments_lexer": "ipython2",
   "version": "2.7.6"
  }
 },
 "nbformat": 4,
 "nbformat_minor": 5
}
